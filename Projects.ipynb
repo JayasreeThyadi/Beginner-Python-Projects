{
 "cells": [
  {
   "cell_type": "markdown",
   "id": "7f7e9a9e",
   "metadata": {},
   "source": [
    "<h2>Insta Profile Picture Downloader</h2>"
   ]
  },
  {
   "cell_type": "code",
   "execution_count": 2,
   "id": "a8849c80",
   "metadata": {},
   "outputs": [
    {
     "name": "stdout",
     "output_type": "stream",
     "text": [
      "Enter Insta Username:tae.high\n",
      "Stored ID 5652672796 for profile tae.high.\n",
      "tae.high\\2021-08-02_08-03-17_UTC_profile_pic.jpg \n"
     ]
    }
   ],
   "source": [
    "import instaloader\n",
    "ig=instaloader.Instaloader()\n",
    "dp=input(\"Enter Insta Username:\")\n",
    "ig.download_profile(dp,profile_pic_only=True)\n"
   ]
  },
  {
   "cell_type": "markdown",
   "id": "5afe2fd4",
   "metadata": {},
   "source": [
    "<h2>Rock, Paper & Scissors</h2>"
   ]
  },
  {
   "cell_type": "code",
   "execution_count": 3,
   "id": "9ca2c3f6",
   "metadata": {},
   "outputs": [
    {
     "name": "stdout",
     "output_type": "stream",
     "text": [
      "****** Rock Paper Scissors *****\n",
      "\n",
      "\n",
      "Win: 0 \n",
      "Loss: 0 \n",
      "Tie: 0\n",
      "\n",
      "Enter Your Move: \n",
      "            r - rock \n",
      "            p - paper \n",
      "            s - scissors \n",
      "            q - quit\n",
      "Type one of r, p, s or q : s\n",
      "Rock\n",
      "You Lose:(\n",
      "\n",
      "\n",
      "Win: 0 \n",
      "Loss: 1 \n",
      "Tie: 0\n",
      "\n",
      "Enter Your Move: \n",
      "            r - rock \n",
      "            p - paper \n",
      "            s - scissors \n",
      "            q - quit\n",
      "Type one of r, p, s or q : r\n",
      "Rock\n",
      "It is tie!\n",
      "\n",
      "\n",
      "Win: 0 \n",
      "Loss: 1 \n",
      "Tie: 1\n",
      "\n",
      "Enter Your Move: \n",
      "            r - rock \n",
      "            p - paper \n",
      "            s - scissors \n",
      "            q - quit\n",
      "Type one of r, p, s or q : r\n",
      "Scissors\n",
      "You win:)\n",
      "\n",
      "\n",
      "Win: 1 \n",
      "Loss: 1 \n",
      "Tie: 1\n",
      "\n",
      "Enter Your Move: \n",
      "            r - rock \n",
      "            p - paper \n",
      "            s - scissors \n",
      "            q - quit\n",
      "Type one of r, p, s or q : p\n",
      "Scissors\n",
      "You Lose:(\n",
      "\n",
      "\n",
      "Win: 1 \n",
      "Loss: 2 \n",
      "Tie: 1\n",
      "\n",
      "Enter Your Move: \n",
      "            r - rock \n",
      "            p - paper \n",
      "            s - scissors \n",
      "            q - quit\n",
      "Type one of r, p, s or q : p\n",
      "Rock\n",
      "You win:)\n",
      "\n",
      "\n",
      "Win: 2 \n",
      "Loss: 2 \n",
      "Tie: 1\n",
      "\n",
      "Enter Your Move: \n",
      "            r - rock \n",
      "            p - paper \n",
      "            s - scissors \n",
      "            q - quit\n",
      "Type one of r, p, s or q : r\n",
      "Scissors\n",
      "You win:)\n",
      "\n",
      "\n",
      "Win: 3 \n",
      "Loss: 2 \n",
      "Tie: 1\n",
      "\n",
      "Enter Your Move: \n",
      "            r - rock \n",
      "            p - paper \n",
      "            s - scissors \n",
      "            q - quit\n",
      "Type one of r, p, s or q : q\n"
     ]
    },
    {
     "ename": "SystemExit",
     "evalue": "",
     "output_type": "error",
     "traceback": [
      "An exception has occurred, use %tb to see the full traceback.\n",
      "\u001b[1;31mSystemExit\u001b[0m\n"
     ]
    },
    {
     "name": "stderr",
     "output_type": "stream",
     "text": [
      "c:\\users\\jayasreet\\appdata\\local\\programs\\python\\python39\\lib\\site-packages\\IPython\\core\\interactiveshell.py:3445: UserWarning: To exit: use 'exit', 'quit', or Ctrl-D.\n",
      "  warn(\"To exit: use 'exit', 'quit', or Ctrl-D.\", stacklevel=1)\n"
     ]
    }
   ],
   "source": [
    "import random, sys\n",
    "print(\"****** Rock Paper Scissors *****\")\n",
    "# Track win, loss and tie.\n",
    "win = 0\n",
    "loss = 0\n",
    "tie = 0\n",
    "# Loop the main game.\n",
    "while True:\n",
    "    print(f\"\\n\\nWin: {win} \\nLoss: {loss} \\nTie: {tie}\")\n",
    "    print(\"\"\"\\nEnter Your Move: \n",
    "            r - rock \n",
    "            p - paper \n",
    "            s - scissors \n",
    "            q - quit\"\"\")\n",
    "    UserMove = input(\"Type one of r, p, s or q : \")\n",
    "    \n",
    "    if UserMove == 'q':\n",
    "        sys.exit()   #Quit the program.\n",
    "    # Display what the computer choice: \n",
    "    randomNumber = random.randint(1, 3)\n",
    "    #Let Computer Choose it's move. \n",
    "    if randomNumber == 1:\n",
    "        computerMove = 'r'\n",
    "        print(\"Rock\")\n",
    "    elif randomNumber == 2:\n",
    "        computerMove = 'p'\n",
    "        print(\"Paper\")\n",
    "    elif randomNumber == 3:\n",
    "        computerMove = 's'\n",
    "        print(\"Scissors\")\n",
    "    #Check Win\n",
    "    \n",
    "    if UserMove == 'r' and computerMove == 's':\n",
    "        print(\"You win:)\")\n",
    "        win += 1\n",
    "    elif UserMove == \"p\" and computerMove == 'r':\n",
    "        win += 1\n",
    "        print(\"You win:)\")\n",
    "    elif UserMove == \"s\" and computerMove == 'p':\n",
    "        win += 1\n",
    "        print(\"You win:)\")\n",
    "    elif UserMove == \"r\" and computerMove == 'p':\n",
    "        loss += 1\n",
    "        print(\"You Lose:(\")\n",
    "    elif UserMove == \"p\" and computerMove == 's':\n",
    "        loss += 1\n",
    "        print(\"You Lose:(\")\n",
    "    elif UserMove == \"s\" and computerMove == 'r':\n",
    "        loss += 1\n",
    "        print(\"You Lose:(\")\n",
    "    elif UserMove == computerMove:\n",
    "        print(\"It is tie!\")\n",
    "        tie += 1"
   ]
  },
  {
   "cell_type": "markdown",
   "id": "b7d04f65",
   "metadata": {},
   "source": [
    "<h2>Story Generator</h2>"
   ]
  },
  {
   "cell_type": "code",
   "execution_count": 8,
   "id": "273a8b2c",
   "metadata": {},
   "outputs": [
    {
     "name": "stdout",
     "output_type": "stream",
     "text": [
      "Back in the era of dinosaurs, Jade was in a garden to dance.\n"
     ]
    }
   ],
   "source": [
    "import random\n",
    "\n",
    "when=['In the 90s','A long long ago','Back in the era of dinosaurs','Once upon a time']\n",
    "who=['Charlie','Edwin Taylor','Stark','Jade']\n",
    "where=['went into the forest','dissolved into supernova','was in a garden','went back in time']\n",
    "what=['to pluck flowers','to relax','found a precious stone','to dance']\n",
    "\n",
    "print(random.choice(when)+', '+random.choice(who)+' '+random.choice(where)+' '+random.choice(what)+\".\")"
   ]
  },
  {
   "cell_type": "markdown",
   "id": "a5e6da3c",
   "metadata": {},
   "source": [
    "<h1>Calculator</h1>"
   ]
  },
  {
   "cell_type": "code",
   "execution_count": 6,
   "id": "e237db76",
   "metadata": {},
   "outputs": [],
   "source": [
    "import math\n"
   ]
  },
  {
   "cell_type": "markdown",
   "id": "55fcc9b5",
   "metadata": {},
   "source": [
    "<h1>Communicating with NASA Mars Rovers</h1>"
   ]
  },
  {
   "cell_type": "code",
   "execution_count": 2,
   "id": "ed9ee8e6",
   "metadata": {},
   "outputs": [
    {
     "name": "stdout",
     "output_type": "stream",
     "text": [
      "Collecting nasapy\n",
      "  Downloading nasapy-0.2.7-py2.py3-none-any.whl (29 kB)\n",
      "Requirement already satisfied: requests>=2.18 in c:\\users\\jayasreet\\.ipython\\anaconda\\lib\\site-packages (from nasapy) (2.26.0)\n",
      "Requirement already satisfied: urllib3<1.27,>=1.21.1 in c:\\users\\jayasreet\\.ipython\\anaconda\\lib\\site-packages (from requests>=2.18->nasapy) (1.26.4)\n",
      "Requirement already satisfied: charset-normalizer~=2.0.0 in c:\\users\\jayasreet\\.ipython\\anaconda\\lib\\site-packages (from requests>=2.18->nasapy) (2.0.7)\n",
      "Requirement already satisfied: idna<4,>=2.5 in c:\\users\\jayasreet\\.ipython\\anaconda\\lib\\site-packages (from requests>=2.18->nasapy) (2.10)\n",
      "Requirement already satisfied: certifi>=2017.4.17 in c:\\users\\jayasreet\\.ipython\\anaconda\\lib\\site-packages (from requests>=2.18->nasapy) (2020.12.5)\n",
      "Installing collected packages: nasapy\n",
      "Successfully installed nasapy-0.2.7\n",
      "Note: you may need to restart the kernel to use updated packages.\n"
     ]
    }
   ],
   "source": [
    "pip install nasapy"
   ]
  },
  {
   "cell_type": "code",
   "execution_count": 11,
   "id": "cb698768",
   "metadata": {},
   "outputs": [],
   "source": [
    "from nasapy import *\n",
    "import random\n",
    "api_key=\"qSBI37XrKqQWZsdVJUGeaJjDqSO2em4PcmDFX7Kb\"\n",
    "rover=random.choice(['curiosity','opportunity','spirit'])"
   ]
  },
  {
   "cell_type": "code",
   "execution_count": 12,
   "id": "fb3cb63d",
   "metadata": {},
   "outputs": [],
   "source": [
    "if rover==\"curiosity\" or rover==\"opportunity\" or rover==\"spirit\":\n",
    "    sol1=random.randrange(2001)\n",
    "    nasa=nasapy.Nasa(key=api_key)\n",
    "    cam1=random.choice(['FHAZ','RHAZ','NAVCAM'])\n",
    "    roverpic=nasa.mars_rover(sol=sol1,camera=cam1,rover=rover)"
   ]
  },
  {
   "cell_type": "code",
   "execution_count": 16,
   "id": "7d81e24e",
   "metadata": {},
   "outputs": [
    {
     "name": "stdout",
     "output_type": "stream",
     "text": [
      "Note: you may need to restart the kernel to use updated packages.\n"
     ]
    },
    {
     "name": "stderr",
     "output_type": "stream",
     "text": [
      "ERROR: Could not find a version that satisfies the requirement urllib\n",
      "ERROR: No matching distribution found for urllib\n"
     ]
    }
   ],
   "source": [
    "pip install urllib"
   ]
  },
  {
   "cell_type": "code",
   "execution_count": null,
   "id": "34d949aa",
   "metadata": {},
   "outputs": [],
   "source": []
  },
  {
   "cell_type": "code",
   "execution_count": 15,
   "id": "648e7c7b",
   "metadata": {},
   "outputs": [
    {
     "ename": "NameError",
     "evalue": "name 'urllib' is not defined",
     "output_type": "error",
     "traceback": [
      "\u001b[1;31m---------------------------------------------------------------------------\u001b[0m",
      "\u001b[1;31mNameError\u001b[0m                                 Traceback (most recent call last)",
      "\u001b[1;32m<ipython-input-15-79703093db5d>\u001b[0m in \u001b[0;36m<module>\u001b[1;34m\u001b[0m\n\u001b[0;32m      6\u001b[0m     \u001b[0mrandompic\u001b[0m\u001b[1;33m=\u001b[0m\u001b[0mrandom\u001b[0m\u001b[1;33m.\u001b[0m\u001b[0mchoice\u001b[0m\u001b[1;33m(\u001b[0m\u001b[0mroverpic\u001b[0m\u001b[1;33m)\u001b[0m\u001b[1;33m\u001b[0m\u001b[1;33m\u001b[0m\u001b[0m\n\u001b[0;32m      7\u001b[0m     \u001b[0mindex\u001b[0m\u001b[1;33m=\u001b[0m\u001b[0mroverpic\u001b[0m\u001b[1;33m.\u001b[0m\u001b[0mindex\u001b[0m\u001b[1;33m(\u001b[0m\u001b[0mrandompic\u001b[0m\u001b[1;33m)\u001b[0m\u001b[1;33m\u001b[0m\u001b[1;33m\u001b[0m\u001b[0m\n\u001b[1;32m----> 8\u001b[1;33m     \u001b[0murllib\u001b[0m\u001b[1;33m.\u001b[0m\u001b[0mrequest\u001b[0m\u001b[1;33m.\u001b[0m\u001b[0murlretrieve\u001b[0m\u001b[1;33m(\u001b[0m\u001b[0mroverpic\u001b[0m\u001b[1;33m[\u001b[0m\u001b[0mindex\u001b[0m\u001b[1;33m]\u001b[0m\u001b[1;33m[\u001b[0m\u001b[1;34m\"img_src\"\u001b[0m\u001b[1;33m]\u001b[0m\u001b[1;33m,\u001b[0m\u001b[0mfilename\u001b[0m\u001b[1;33m=\u001b[0m\u001b[0mos\u001b[0m\u001b[1;33m.\u001b[0m\u001b[0mpsth\u001b[0m\u001b[1;33m.\u001b[0m\u001b[0mjoin\u001b[0m\u001b[1;33m(\u001b[0m\u001b[0mimage_dir\u001b[0m\u001b[1;33m,\u001b[0m\u001b[0mtitle\u001b[0m\u001b[1;33m)\u001b[0m\u001b[1;33m)\u001b[0m\u001b[1;33m\u001b[0m\u001b[1;33m\u001b[0m\u001b[0m\n\u001b[0m\u001b[0;32m      9\u001b[0m     \u001b[0mimage\u001b[0m\u001b[1;33m=\u001b[0m\u001b[0mapi\u001b[0m\u001b[1;33m.\u001b[0m\u001b[0mmedia_upload\u001b[0m\u001b[1;33m(\u001b[0m\u001b[0mfilename\u001b[0m\u001b[1;33m=\u001b[0m\u001b[0mos\u001b[0m\u001b[1;33m.\u001b[0m\u001b[0mpath\u001b[0m\u001b[1;33m.\u001b[0m\u001b[0mjoin\u001b[0m\u001b[1;33m(\u001b[0m\u001b[0mimage_dir\u001b[0m\u001b[1;33m,\u001b[0m\u001b[0mtitle\u001b[0m\u001b[1;33m)\u001b[0m\u001b[1;33m)\u001b[0m\u001b[1;33m\u001b[0m\u001b[1;33m\u001b[0m\u001b[0m\n\u001b[0;32m     10\u001b[0m     \u001b[0mtweet\u001b[0m\u001b[1;33m=\u001b[0m\u001b[1;34m\"Taken by \"\u001b[0m\u001b[1;33m+\u001b[0m\u001b[0mroverpic\u001b[0m\u001b[1;33m[\u001b[0m\u001b[0mindex\u001b[0m\u001b[1;33m]\u001b[0m\u001b[1;33m[\u001b[0m\u001b[1;34m\"rover\"\u001b[0m\u001b[1;33m]\u001b[0m\u001b[1;33m[\u001b[0m\u001b[1;34m\"name\"\u001b[0m\u001b[1;33m]\u001b[0m\u001b[1;33m+\u001b[0m\u001b[1;34m\"on \"\u001b[0m\u001b[1;33m+\u001b[0m\u001b[0mroverpic\u001b[0m\u001b[1;33m[\u001b[0m\u001b[0mindex\u001b[0m\u001b[1;33m]\u001b[0m\u001b[1;33m[\u001b[0m\u001b[1;34m\"camera\"\u001b[0m\u001b[1;33m]\u001b[0m\u001b[1;33m[\u001b[0m\u001b[1;34m\"full_name\"\u001b[0m\u001b[1;33m]\u001b[0m\u001b[1;33m\u001b[0m\u001b[1;33m\u001b[0m\u001b[0m\n",
      "\u001b[1;31mNameError\u001b[0m: name 'urllib' is not defined"
     ]
    }
   ],
   "source": [
    "if len(roverpic)==0:\n",
    "    tweet=\"no image from \"+rover+\" \"+cam1+\"available from sol\"+str(sol)\n",
    "    status= api.update_status(status=tweet)\n",
    "    \n",
    "else:\n",
    "    randompic=random.choice(roverpic)\n",
    "    index=roverpic.index(randompic)\n",
    "    urllib.request.urlretrieve(roverpic[index][\"img_src\"],filename=os.psth.join(image_dir,title))\n",
    "    image=api.media_upload(filename=os.path.join(image_dir,title))\n",
    "    tweet=\"Taken by \"+roverpic[index][\"rover\"][\"name\"]+\"on \"+roverpic[index][\"camera\"][\"full_name\"]\n",
    "    status=api.update_status(status=tweet, media_ids=[image.media_id])\n",
    "    "
   ]
  },
  {
   "cell_type": "code",
   "execution_count": null,
   "id": "9860c849",
   "metadata": {},
   "outputs": [],
   "source": []
  }
 ],
 "metadata": {
  "kernelspec": {
   "display_name": "Python 3",
   "language": "python",
   "name": "python3"
  },
  "language_info": {
   "codemirror_mode": {
    "name": "ipython",
    "version": 3
   },
   "file_extension": ".py",
   "mimetype": "text/x-python",
   "name": "python",
   "nbconvert_exporter": "python",
   "pygments_lexer": "ipython3",
   "version": "3.8.8"
  }
 },
 "nbformat": 4,
 "nbformat_minor": 5
}
